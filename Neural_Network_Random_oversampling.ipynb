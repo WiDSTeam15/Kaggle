{
  "nbformat": 4,
  "nbformat_minor": 0,
  "metadata": {
    "colab": {
      "provenance": []
    },
    "kernelspec": {
      "name": "python3",
      "display_name": "Python 3"
    },
    "language_info": {
      "name": "python"
    }
  },
  "cells": [
    {
      "cell_type": "code",
      "execution_count": null,
      "metadata": {
        "id": "OgutVNkIEhjN",
        "colab": {
          "base_uri": "https://localhost:8080/"
        },
        "outputId": "ab8334e0-acfa-4271-8ca4-5699aefa55a4"
      },
      "outputs": [
        {
          "output_type": "stream",
          "name": "stdout",
          "text": [
            "Requirement already satisfied: keras-tuner in /usr/local/lib/python3.11/dist-packages (1.4.7)\n",
            "Requirement already satisfied: keras in /usr/local/lib/python3.11/dist-packages (from keras-tuner) (3.8.0)\n",
            "Requirement already satisfied: packaging in /usr/local/lib/python3.11/dist-packages (from keras-tuner) (24.2)\n",
            "Requirement already satisfied: requests in /usr/local/lib/python3.11/dist-packages (from keras-tuner) (2.32.3)\n",
            "Requirement already satisfied: kt-legacy in /usr/local/lib/python3.11/dist-packages (from keras-tuner) (1.0.5)\n",
            "Requirement already satisfied: absl-py in /usr/local/lib/python3.11/dist-packages (from keras->keras-tuner) (1.4.0)\n",
            "Requirement already satisfied: numpy in /usr/local/lib/python3.11/dist-packages (from keras->keras-tuner) (2.0.2)\n",
            "Requirement already satisfied: rich in /usr/local/lib/python3.11/dist-packages (from keras->keras-tuner) (13.9.4)\n",
            "Requirement already satisfied: namex in /usr/local/lib/python3.11/dist-packages (from keras->keras-tuner) (0.0.8)\n",
            "Requirement already satisfied: h5py in /usr/local/lib/python3.11/dist-packages (from keras->keras-tuner) (3.13.0)\n",
            "Requirement already satisfied: optree in /usr/local/lib/python3.11/dist-packages (from keras->keras-tuner) (0.14.1)\n",
            "Requirement already satisfied: ml-dtypes in /usr/local/lib/python3.11/dist-packages (from keras->keras-tuner) (0.4.1)\n",
            "Requirement already satisfied: charset-normalizer<4,>=2 in /usr/local/lib/python3.11/dist-packages (from requests->keras-tuner) (3.4.1)\n",
            "Requirement already satisfied: idna<4,>=2.5 in /usr/local/lib/python3.11/dist-packages (from requests->keras-tuner) (3.10)\n",
            "Requirement already satisfied: urllib3<3,>=1.21.1 in /usr/local/lib/python3.11/dist-packages (from requests->keras-tuner) (2.3.0)\n",
            "Requirement already satisfied: certifi>=2017.4.17 in /usr/local/lib/python3.11/dist-packages (from requests->keras-tuner) (2025.1.31)\n",
            "Requirement already satisfied: typing-extensions>=4.5.0 in /usr/local/lib/python3.11/dist-packages (from optree->keras->keras-tuner) (4.12.2)\n",
            "Requirement already satisfied: markdown-it-py>=2.2.0 in /usr/local/lib/python3.11/dist-packages (from rich->keras->keras-tuner) (3.0.0)\n",
            "Requirement already satisfied: pygments<3.0.0,>=2.13.0 in /usr/local/lib/python3.11/dist-packages (from rich->keras->keras-tuner) (2.18.0)\n",
            "Requirement already satisfied: mdurl~=0.1 in /usr/local/lib/python3.11/dist-packages (from markdown-it-py>=2.2.0->rich->keras->keras-tuner) (0.1.2)\n"
          ]
        }
      ],
      "source": [
        "import pandas as pd\n",
        "import matplotlib.pyplot as plt\n",
        "import seaborn as sns\n",
        "import os\n",
        "import numpy as np\n",
        "import tensorflow as tf\n",
        "import keras\n",
        "from sklearn.model_selection import train_test_split\n",
        "from sklearn.preprocessing import StandardScaler\n",
        "from tensorflow.keras.models import Sequential\n",
        "from tensorflow.keras.layers import Dense, Input\n",
        "from tensorflow.keras.optimizers import Adam\n",
        "!pip install keras-tuner\n",
        "import keras_tuner as kt\n",
        "from tensorflow.keras import layers\n"
      ]
    },
    {
      "cell_type": "code",
      "source": [
        "from google.colab import drive\n",
        "drive.mount('/content/drive')\n",
        "!ls \"/content/drive/MyDrive/widsTeam_15/finalized_df_wids/\"\n"
      ],
      "metadata": {
        "colab": {
          "base_uri": "https://localhost:8080/"
        },
        "id": "VUK5JhnpFST_",
        "outputId": "b7bc9dfa-bb6d-4ef6-ad64-67bab061d2e5"
      },
      "execution_count": null,
      "outputs": [
        {
          "output_type": "stream",
          "name": "stdout",
          "text": [
            "Drive already mounted at /content/drive; to attempt to forcibly remount, call drive.mount(\"/content/drive\", force_remount=True).\n",
            "Merged_ros_df.csv  Merged_rus_df.csv  Merged_test_df.csv  Merged_train_df_unbalanced.csv\n"
          ]
        }
      ]
    },
    {
      "cell_type": "code",
      "source": [
        "test_df = pd.read_csv(\"/content/drive/MyDrive/widsTeam_15/finalized_df_wids/Merged_test_df.csv\")\n",
        "train_df = pd.read_csv(\"/content/drive/MyDrive/widsTeam_15/finalized_df_wids/Merged_ros_df.csv\")"
      ],
      "metadata": {
        "id": "Q4qzVZ8oFZvg"
      },
      "execution_count": null,
      "outputs": []
    },
    {
      "cell_type": "code",
      "source": [
        "print(\"NA for testing dataframe: \", test_df.isna().sum().sum())\n",
        "print(\"NA for training dataframe: \", train_df.isna().sum().sum())\n",
        "print(test_df.shape)\n",
        "print(train_df.shape)"
      ],
      "metadata": {
        "colab": {
          "base_uri": "https://localhost:8080/"
        },
        "id": "U_fMAI4XFo2_",
        "outputId": "06837617-46d4-4f58-d9e5-d250a382f303"
      },
      "execution_count": null,
      "outputs": [
        {
          "output_type": "stream",
          "name": "stdout",
          "text": [
            "NA for testing dataframe:  0\n",
            "NA for training dataframe:  0\n",
            "(304, 19973)\n",
            "(2124, 19975)\n"
          ]
        }
      ]
    },
    {
      "cell_type": "code",
      "source": [
        "X_train = train_df.drop(columns=['participant_id', 'ADHD_Outcome','Sex_F'])\n",
        "Y_train = train_df[['ADHD_Outcome','Sex_F']]\n",
        "X_test2 = test_df.drop(columns=['participant_id'])\n",
        "print(X_train.shape)\n",
        "print(Y_train.shape)\n",
        "print(X_test2.shape)"
      ],
      "metadata": {
        "colab": {
          "base_uri": "https://localhost:8080/"
        },
        "id": "tNDiWSFiNLt_",
        "outputId": "6adf0179-bc20-4c98-d7cb-d38b9f68bce4"
      },
      "execution_count": null,
      "outputs": [
        {
          "output_type": "stream",
          "name": "stdout",
          "text": [
            "(2124, 19972)\n",
            "(2124, 2)\n",
            "(304, 19972)\n"
          ]
        }
      ]
    },
    {
      "cell_type": "code",
      "source": [
        "print(train_df.columns.equals(test_df.columns))"
      ],
      "metadata": {
        "colab": {
          "base_uri": "https://localhost:8080/"
        },
        "id": "6ZAPxpgCOAZn",
        "outputId": "d1c76d95-00f3-4dab-e39f-724d9184b53f"
      },
      "execution_count": null,
      "outputs": [
        {
          "output_type": "stream",
          "name": "stdout",
          "text": [
            "False\n"
          ]
        }
      ]
    },
    {
      "cell_type": "code",
      "source": [
        "#reordering the columns of a dataframe to match the other to make standard scalar work\n",
        "test_df= test_df.reindex(columns=train_df.columns)\n",
        "print(train_df.columns.equals(test_df.columns))"
      ],
      "metadata": {
        "colab": {
          "base_uri": "https://localhost:8080/"
        },
        "id": "On8nT9kuOZ5b",
        "outputId": "c6700ac1-12ea-4997-8128-0160a321a38d"
      },
      "execution_count": null,
      "outputs": [
        {
          "output_type": "stream",
          "name": "stdout",
          "text": [
            "True\n"
          ]
        }
      ]
    },
    {
      "cell_type": "code",
      "source": [
        "#identifying common columns\n",
        "common_columns = list(set(train_df.columns) & set(test_df.columns))\n",
        "print(\"Number of common columns:\", len(common_columns))\n",
        "\n",
        "additional_col = [ 'ADHD_Outcome','Sex_F']\n",
        "# Keep only common columns in both dataframes\n",
        "train_df_common = train_df[common_columns]\n",
        "test_df_common = test_df[common_columns]\n",
        "\n",
        "# Show the number of rows and columns in the dataframes with common columns\n",
        "print(test_df_common.shape)\n",
        "print(train_df_common.shape)"
      ],
      "metadata": {
        "colab": {
          "base_uri": "https://localhost:8080/"
        },
        "id": "nD0MF96sOwkG",
        "outputId": "92023632-8c91-4071-f70e-af9bcd0c6b06"
      },
      "execution_count": null,
      "outputs": [
        {
          "output_type": "stream",
          "name": "stdout",
          "text": [
            "Number of common columns: 19975\n",
            "(304, 19975)\n",
            "(2124, 19975)\n"
          ]
        }
      ]
    },
    {
      "cell_type": "code",
      "source": [
        "X = train_df_common.drop(columns=['participant_id', 'ADHD_Outcome','Sex_F'])\n",
        "Y = train_df_common[['ADHD_Outcome','Sex_F']]\n",
        "print(X_train.shape)\n",
        "print(Y_train.shape)\n",
        "print(X_test2.shape)"
      ],
      "metadata": {
        "colab": {
          "base_uri": "https://localhost:8080/"
        },
        "id": "jSGJw9MCP82s",
        "outputId": "e91b55dc-b90d-4383-b018-b30afd59ae6a"
      },
      "execution_count": null,
      "outputs": [
        {
          "output_type": "stream",
          "name": "stdout",
          "text": [
            "(2124, 19972)\n",
            "(2124, 2)\n",
            "(304, 19972)\n"
          ]
        }
      ]
    },
    {
      "cell_type": "code",
      "source": [
        "Y_train.columns"
      ],
      "metadata": {
        "colab": {
          "base_uri": "https://localhost:8080/"
        },
        "id": "Uhg0hLaAQwcA",
        "outputId": "3f05eb8e-ea8a-4eb4-b3d8-acf7e7c939cd"
      },
      "execution_count": null,
      "outputs": [
        {
          "output_type": "execute_result",
          "data": {
            "text/plain": [
              "Index(['ADHD_Outcome', 'Sex_F'], dtype='object')"
            ]
          },
          "metadata": {},
          "execution_count": 21
        }
      ]
    },
    {
      "cell_type": "code",
      "source": [
        "X_train, X_test, Y_train,Y_test= train_test_split(X,Y, test_size=.2, random_state=123)\n",
        "#spliting further into training and validation\n",
        "X_train,X_val,Y_train,Y_val = train_test_split(X_train,Y_train, test_size=.2,random_state=123)"
      ],
      "metadata": {
        "id": "hHsa8CUIvVwl"
      },
      "execution_count": null,
      "outputs": []
    },
    {
      "cell_type": "code",
      "source": [
        "#standardize data\n",
        "scaler = StandardScaler()\n",
        "X_train_scaled = scaler.fit_transform(X_train)\n",
        "X_val_scaled = scaler.transform(X_test)\n",
        "X_test_scaled = scaler.transform(X_test)"
      ],
      "metadata": {
        "id": "E7bSrf0uNlNQ"
      },
      "execution_count": null,
      "outputs": []
    },
    {
      "cell_type": "markdown",
      "source": [
        "Hyperparameter Tuning"
      ],
      "metadata": {
        "id": "vYfjF1i8HSit"
      }
    },
    {
      "cell_type": "code",
      "source": [
        "def build_model(hp):\n",
        "    model_hp = keras.Sequential()\n",
        "\n",
        "    # First hidden layer (tuning number of units)\n",
        "    model_hp.add(layers.Dense(hp.Int('units_1', min_value=32, max_value=256, step=32), activation='relu'))\n",
        "\n",
        "    # Second hidden layer (if selected, tune number of units)\n",
        "    if hp.Boolean(\"second_layer\"):\n",
        "        model_hp.add(layers.Dense(hp.Int('units_2', min_value=32, max_value=128, step=32), activation='relu'))\n",
        "\n",
        "        # Third hidden layer (if selected, tune number of units)\n",
        "        if hp.Boolean(\"third_layer\"):\n",
        "            model_hp.add(layers.Dense(hp.Int('units_3', min_value=16, max_value=64, step=16), activation='relu'))\n",
        "\n",
        "    # Output layer for binary classification\n",
        "    model_hp.add(layers.Dense(2, activation=\"sigmoid\"))\n",
        "\n",
        "    # Tune the learning rate\n",
        "    learning_rate = hp.Choice('learning_rate', [0.001, 0.015, 0.01])\n",
        "\n",
        "    # Compile the model\n",
        "    model_hp.compile(optimizer=keras.optimizers.Adam(learning_rate=learning_rate),\n",
        "                     loss=\"binary_crossentropy\",\n",
        "                     metrics=[\"binary_accuracy\"])\n",
        "\n",
        "    return model_hp\n"
      ],
      "metadata": {
        "id": "M6BuyVyoDq5c"
      },
      "execution_count": null,
      "outputs": []
    },
    {
      "cell_type": "code",
      "source": [
        "#grid search\n",
        "tuner = kt.RandomSearch(build_model, objective=\"val_binary_accuracy\", max_trials=10, executions_per_trial=2, directory='my_tuning',project_name='neural_net_gridsearch')\n",
        "#starting the search\n",
        "tuner.search(X_train_scaled, Y_train, epochs=45, validation_split=0.2)\n",
        "\n",
        "\n",
        "best_hps = tuner.get_best_hyperparameters(num_trials=1)[0]\n",
        "\n",
        "print(f\"Best number of units in first layer: {best_hps.get('units_1')}\")\n",
        "print(f\"Second layer included: {best_hps.get('second_layer')}\")\n",
        "print(f\"Best number of units in second layer: {best_hps.get('units_2')}\")\n",
        "print(f\"Best number of units in third layer: {best_hps.get('units_3')}\")\n",
        "print(f\"Best learning rate: {best_hps.get('learning_rate')}\")\n",
        "\n",
        "# Build the best model with the best hyperparameters\n",
        "best_model = tuner.hypermodel.build(best_hps)\n",
        "\n",
        "# Train the best model with training data\n",
        "best_model.fit(X_train_scaled, Y_train, epochs=30, validation_data=(X_val, Y_val))\n",
        "\n",
        "# Evaluate on test data\n",
        "test_loss, test_acc = best_model.evaluate(X_test, Y_test)\n",
        "print(f\"Test Accuracy: {test_acc:.4f}\")\n"
      ],
      "metadata": {
        "colab": {
          "base_uri": "https://localhost:8080/"
        },
        "id": "vZ0ERvxiJkIa",
        "outputId": "6628e3f5-d7d8-415f-f2af-669156e0d19d"
      },
      "execution_count": null,
      "outputs": [
        {
          "output_type": "stream",
          "name": "stdout",
          "text": [
            "Trial 10 Complete [00h 03m 19s]\n",
            "val_binary_accuracy: 0.8612132370471954\n",
            "\n",
            "Best val_binary_accuracy So Far: 0.8612132370471954\n",
            "Total elapsed time: 00h 33m 43s\n",
            "Best number of units in first layer: 160\n",
            "Second layer included: True\n",
            "Best number of units in second layer: 96\n",
            "Best number of units in third layer: 48\n",
            "Best learning rate: 0.001\n",
            "Epoch 1/30\n",
            "\u001b[1m43/43\u001b[0m \u001b[32m━━━━━━━━━━━━━━━━━━━━\u001b[0m\u001b[37m\u001b[0m \u001b[1m4s\u001b[0m 53ms/step - binary_accuracy: 0.6501 - loss: 0.6149 - val_binary_accuracy: 0.4971 - val_loss: 0.9139\n",
            "Epoch 2/30\n",
            "\u001b[1m43/43\u001b[0m \u001b[32m━━━━━━━━━━━━━━━━━━━━\u001b[0m\u001b[37m\u001b[0m \u001b[1m2s\u001b[0m 57ms/step - binary_accuracy: 0.9954 - loss: 0.0223 - val_binary_accuracy: 0.4853 - val_loss: 1.4403\n",
            "Epoch 3/30\n",
            "\u001b[1m43/43\u001b[0m \u001b[32m━━━━━━━━━━━━━━━━━━━━\u001b[0m\u001b[37m\u001b[0m \u001b[1m2s\u001b[0m 43ms/step - binary_accuracy: 0.9992 - loss: 0.0060 - val_binary_accuracy: 0.4912 - val_loss: 1.3648\n",
            "Epoch 4/30\n",
            "\u001b[1m43/43\u001b[0m \u001b[32m━━━━━━━━━━━━━━━━━━━━\u001b[0m\u001b[37m\u001b[0m \u001b[1m2s\u001b[0m 45ms/step - binary_accuracy: 1.0000 - loss: 7.4595e-04 - val_binary_accuracy: 0.4882 - val_loss: 1.4370\n",
            "Epoch 5/30\n",
            "\u001b[1m43/43\u001b[0m \u001b[32m━━━━━━━━━━━━━━━━━━━━\u001b[0m\u001b[37m\u001b[0m \u001b[1m4s\u001b[0m 68ms/step - binary_accuracy: 1.0000 - loss: 5.2379e-04 - val_binary_accuracy: 0.4882 - val_loss: 1.4794\n",
            "Epoch 6/30\n",
            "\u001b[1m43/43\u001b[0m \u001b[32m━━━━━━━━━━━━━━━━━━━━\u001b[0m\u001b[37m\u001b[0m \u001b[1m2s\u001b[0m 50ms/step - binary_accuracy: 1.0000 - loss: 3.9973e-04 - val_binary_accuracy: 0.4882 - val_loss: 1.5096\n",
            "Epoch 7/30\n",
            "\u001b[1m43/43\u001b[0m \u001b[32m━━━━━━━━━━━━━━━━━━━━\u001b[0m\u001b[37m\u001b[0m \u001b[1m2s\u001b[0m 53ms/step - binary_accuracy: 1.0000 - loss: 3.3656e-04 - val_binary_accuracy: 0.4882 - val_loss: 1.5327\n",
            "Epoch 8/30\n",
            "\u001b[1m43/43\u001b[0m \u001b[32m━━━━━━━━━━━━━━━━━━━━\u001b[0m\u001b[37m\u001b[0m \u001b[1m2s\u001b[0m 44ms/step - binary_accuracy: 1.0000 - loss: 2.7467e-04 - val_binary_accuracy: 0.4882 - val_loss: 1.5549\n",
            "Epoch 9/30\n",
            "\u001b[1m43/43\u001b[0m \u001b[32m━━━━━━━━━━━━━━━━━━━━\u001b[0m\u001b[37m\u001b[0m \u001b[1m3s\u001b[0m 45ms/step - binary_accuracy: 1.0000 - loss: 2.3406e-04 - val_binary_accuracy: 0.4882 - val_loss: 1.5763\n",
            "Epoch 10/30\n",
            "\u001b[1m43/43\u001b[0m \u001b[32m━━━━━━━━━━━━━━━━━━━━\u001b[0m\u001b[37m\u001b[0m \u001b[1m2s\u001b[0m 50ms/step - binary_accuracy: 1.0000 - loss: 1.9613e-04 - val_binary_accuracy: 0.4882 - val_loss: 1.5939\n",
            "Epoch 11/30\n",
            "\u001b[1m43/43\u001b[0m \u001b[32m━━━━━━━━━━━━━━━━━━━━\u001b[0m\u001b[37m\u001b[0m \u001b[1m3s\u001b[0m 66ms/step - binary_accuracy: 1.0000 - loss: 1.6872e-04 - val_binary_accuracy: 0.4882 - val_loss: 1.6112\n",
            "Epoch 12/30\n",
            "\u001b[1m43/43\u001b[0m \u001b[32m━━━━━━━━━━━━━━━━━━━━\u001b[0m\u001b[37m\u001b[0m \u001b[1m4s\u001b[0m 44ms/step - binary_accuracy: 1.0000 - loss: 1.4745e-04 - val_binary_accuracy: 0.4882 - val_loss: 1.6283\n",
            "Epoch 13/30\n",
            "\u001b[1m43/43\u001b[0m \u001b[32m━━━━━━━━━━━━━━━━━━━━\u001b[0m\u001b[37m\u001b[0m \u001b[1m3s\u001b[0m 43ms/step - binary_accuracy: 1.0000 - loss: 1.3052e-04 - val_binary_accuracy: 0.4882 - val_loss: 1.6438\n",
            "Epoch 14/30\n",
            "\u001b[1m43/43\u001b[0m \u001b[32m━━━━━━━━━━━━━━━━━━━━\u001b[0m\u001b[37m\u001b[0m \u001b[1m3s\u001b[0m 44ms/step - binary_accuracy: 1.0000 - loss: 1.1331e-04 - val_binary_accuracy: 0.4882 - val_loss: 1.6587\n",
            "Epoch 15/30\n",
            "\u001b[1m43/43\u001b[0m \u001b[32m━━━━━━━━━━━━━━━━━━━━\u001b[0m\u001b[37m\u001b[0m \u001b[1m2s\u001b[0m 48ms/step - binary_accuracy: 1.0000 - loss: 1.0600e-04 - val_binary_accuracy: 0.4882 - val_loss: 1.6727\n",
            "Epoch 16/30\n",
            "\u001b[1m43/43\u001b[0m \u001b[32m━━━━━━━━━━━━━━━━━━━━\u001b[0m\u001b[37m\u001b[0m \u001b[1m4s\u001b[0m 75ms/step - binary_accuracy: 1.0000 - loss: 9.6315e-05 - val_binary_accuracy: 0.4882 - val_loss: 1.6849\n",
            "Epoch 17/30\n",
            "\u001b[1m43/43\u001b[0m \u001b[32m━━━━━━━━━━━━━━━━━━━━\u001b[0m\u001b[37m\u001b[0m \u001b[1m4s\u001b[0m 47ms/step - binary_accuracy: 1.0000 - loss: 8.3835e-05 - val_binary_accuracy: 0.4882 - val_loss: 1.6981\n",
            "Epoch 18/30\n",
            "\u001b[1m43/43\u001b[0m \u001b[32m━━━━━━━━━━━━━━━━━━━━\u001b[0m\u001b[37m\u001b[0m \u001b[1m2s\u001b[0m 44ms/step - binary_accuracy: 1.0000 - loss: 7.6206e-05 - val_binary_accuracy: 0.4882 - val_loss: 1.7097\n",
            "Epoch 19/30\n",
            "\u001b[1m43/43\u001b[0m \u001b[32m━━━━━━━━━━━━━━━━━━━━\u001b[0m\u001b[37m\u001b[0m \u001b[1m3s\u001b[0m 43ms/step - binary_accuracy: 1.0000 - loss: 7.2373e-05 - val_binary_accuracy: 0.4882 - val_loss: 1.7217\n",
            "Epoch 20/30\n",
            "\u001b[1m43/43\u001b[0m \u001b[32m━━━━━━━━━━━━━━━━━━━━\u001b[0m\u001b[37m\u001b[0m \u001b[1m3s\u001b[0m 65ms/step - binary_accuracy: 1.0000 - loss: 6.6452e-05 - val_binary_accuracy: 0.4882 - val_loss: 1.7323\n",
            "Epoch 21/30\n",
            "\u001b[1m43/43\u001b[0m \u001b[32m━━━━━━━━━━━━━━━━━━━━\u001b[0m\u001b[37m\u001b[0m \u001b[1m3s\u001b[0m 66ms/step - binary_accuracy: 1.0000 - loss: 6.2330e-05 - val_binary_accuracy: 0.4882 - val_loss: 1.7427\n",
            "Epoch 22/30\n",
            "\u001b[1m43/43\u001b[0m \u001b[32m━━━━━━━━━━━━━━━━━━━━\u001b[0m\u001b[37m\u001b[0m \u001b[1m4s\u001b[0m 44ms/step - binary_accuracy: 1.0000 - loss: 5.4802e-05 - val_binary_accuracy: 0.4882 - val_loss: 1.7523\n",
            "Epoch 23/30\n",
            "\u001b[1m43/43\u001b[0m \u001b[32m━━━━━━━━━━━━━━━━━━━━\u001b[0m\u001b[37m\u001b[0m \u001b[1m3s\u001b[0m 56ms/step - binary_accuracy: 1.0000 - loss: 5.3709e-05 - val_binary_accuracy: 0.4882 - val_loss: 1.7618\n",
            "Epoch 24/30\n",
            "\u001b[1m43/43\u001b[0m \u001b[32m━━━━━━━━━━━━━━━━━━━━\u001b[0m\u001b[37m\u001b[0m \u001b[1m2s\u001b[0m 42ms/step - binary_accuracy: 1.0000 - loss: 4.6281e-05 - val_binary_accuracy: 0.4882 - val_loss: 1.7717\n",
            "Epoch 25/30\n",
            "\u001b[1m43/43\u001b[0m \u001b[32m━━━━━━━━━━━━━━━━━━━━\u001b[0m\u001b[37m\u001b[0m \u001b[1m3s\u001b[0m 62ms/step - binary_accuracy: 1.0000 - loss: 4.5468e-05 - val_binary_accuracy: 0.4882 - val_loss: 1.7810\n",
            "Epoch 26/30\n",
            "\u001b[1m43/43\u001b[0m \u001b[32m━━━━━━━━━━━━━━━━━━━━\u001b[0m\u001b[37m\u001b[0m \u001b[1m4s\u001b[0m 41ms/step - binary_accuracy: 1.0000 - loss: 4.2865e-05 - val_binary_accuracy: 0.4882 - val_loss: 1.7896\n",
            "Epoch 27/30\n",
            "\u001b[1m43/43\u001b[0m \u001b[32m━━━━━━━━━━━━━━━━━━━━\u001b[0m\u001b[37m\u001b[0m \u001b[1m2s\u001b[0m 51ms/step - binary_accuracy: 1.0000 - loss: 3.9253e-05 - val_binary_accuracy: 0.4882 - val_loss: 1.7983\n",
            "Epoch 28/30\n",
            "\u001b[1m43/43\u001b[0m \u001b[32m━━━━━━━━━━━━━━━━━━━━\u001b[0m\u001b[37m\u001b[0m \u001b[1m2s\u001b[0m 47ms/step - binary_accuracy: 1.0000 - loss: 3.5746e-05 - val_binary_accuracy: 0.4882 - val_loss: 1.8075\n",
            "Epoch 29/30\n",
            "\u001b[1m43/43\u001b[0m \u001b[32m━━━━━━━━━━━━━━━━━━━━\u001b[0m\u001b[37m\u001b[0m \u001b[1m2s\u001b[0m 44ms/step - binary_accuracy: 1.0000 - loss: 3.3209e-05 - val_binary_accuracy: 0.4882 - val_loss: 1.8152\n",
            "Epoch 30/30\n",
            "\u001b[1m43/43\u001b[0m \u001b[32m━━━━━━━━━━━━━━━━━━━━\u001b[0m\u001b[37m\u001b[0m \u001b[1m3s\u001b[0m 59ms/step - binary_accuracy: 1.0000 - loss: 3.2336e-05 - val_binary_accuracy: 0.4882 - val_loss: 1.8231\n",
            "\u001b[1m14/14\u001b[0m \u001b[32m━━━━━━━━━━━━━━━━━━━━\u001b[0m\u001b[37m\u001b[0m \u001b[1m0s\u001b[0m 16ms/step - binary_accuracy: 0.5358 - loss: 1.7509\n",
            "Test Accuracy: 0.5200\n"
          ]
        }
      ]
    },
    {
      "cell_type": "code",
      "source": [
        "model = Sequential()\n",
        "\n",
        "# Input layer\n",
        "input_layer = keras.layers.InputLayer(input_shape=(19972,), name='input')\n",
        "model.add(input_layer)\n",
        "\n",
        "# Hidden layers\n",
        "hidden_layer_1 = keras.layers.Dense(units=64, activation='relu', name='hidden_layer_1')\n",
        "model.add(hidden_layer_1)\n",
        "\n",
        "hidden_layer_2 = keras.layers.Dense(units=32,activation='relu', name='hidden_layer_2')\n",
        "model.add(hidden_layer_2)\n",
        "\n",
        "hidden_layer_3 = keras.layers.Dense(units=16, activation='relu', name='hidden_layer_3')\n",
        "model.add(hidden_layer_3)\n",
        "\n",
        "# Output layer for binary classification\n",
        "output_layer = keras.layers.Dense(units=2, activation='sigmoid', name='output')\n",
        "model.add(output_layer)\n",
        "\n",
        "# Display model summary\n",
        "model.summary()"
      ],
      "metadata": {
        "colab": {
          "base_uri": "https://localhost:8080/",
          "height": 293
        },
        "id": "2smw_y-oNoVi",
        "outputId": "14ef98ee-ffeb-4f6c-c8f8-fbaf324cfc45"
      },
      "execution_count": null,
      "outputs": [
        {
          "output_type": "stream",
          "name": "stderr",
          "text": [
            "/usr/local/lib/python3.11/dist-packages/keras/src/layers/core/input_layer.py:27: UserWarning: Argument `input_shape` is deprecated. Use `shape` instead.\n",
            "  warnings.warn(\n"
          ]
        },
        {
          "output_type": "display_data",
          "data": {
            "text/plain": [
              "\u001b[1mModel: \"sequential_4\"\u001b[0m\n"
            ],
            "text/html": [
              "<pre style=\"white-space:pre;overflow-x:auto;line-height:normal;font-family:Menlo,'DejaVu Sans Mono',consolas,'Courier New',monospace\"><span style=\"font-weight: bold\">Model: \"sequential_4\"</span>\n",
              "</pre>\n"
            ]
          },
          "metadata": {}
        },
        {
          "output_type": "display_data",
          "data": {
            "text/plain": [
              "┏━━━━━━━━━━━━━━━━━━━━━━━━━━━━━━━━━━━━━━┳━━━━━━━━━━━━━━━━━━━━━━━━━━━━━┳━━━━━━━━━━━━━━━━━┓\n",
              "┃\u001b[1m \u001b[0m\u001b[1mLayer (type)                        \u001b[0m\u001b[1m \u001b[0m┃\u001b[1m \u001b[0m\u001b[1mOutput Shape               \u001b[0m\u001b[1m \u001b[0m┃\u001b[1m \u001b[0m\u001b[1m        Param #\u001b[0m\u001b[1m \u001b[0m┃\n",
              "┡━━━━━━━━━━━━━━━━━━━━━━━━━━━━━━━━━━━━━━╇━━━━━━━━━━━━━━━━━━━━━━━━━━━━━╇━━━━━━━━━━━━━━━━━┩\n",
              "│ hidden_layer_1 (\u001b[38;5;33mDense\u001b[0m)               │ (\u001b[38;5;45mNone\u001b[0m, \u001b[38;5;34m64\u001b[0m)                  │       \u001b[38;5;34m1,278,272\u001b[0m │\n",
              "├──────────────────────────────────────┼─────────────────────────────┼─────────────────┤\n",
              "│ hidden_layer_2 (\u001b[38;5;33mDense\u001b[0m)               │ (\u001b[38;5;45mNone\u001b[0m, \u001b[38;5;34m32\u001b[0m)                  │           \u001b[38;5;34m2,080\u001b[0m │\n",
              "├──────────────────────────────────────┼─────────────────────────────┼─────────────────┤\n",
              "│ hidden_layer_3 (\u001b[38;5;33mDense\u001b[0m)               │ (\u001b[38;5;45mNone\u001b[0m, \u001b[38;5;34m16\u001b[0m)                  │             \u001b[38;5;34m528\u001b[0m │\n",
              "├──────────────────────────────────────┼─────────────────────────────┼─────────────────┤\n",
              "│ output (\u001b[38;5;33mDense\u001b[0m)                       │ (\u001b[38;5;45mNone\u001b[0m, \u001b[38;5;34m2\u001b[0m)                   │              \u001b[38;5;34m34\u001b[0m │\n",
              "└──────────────────────────────────────┴─────────────────────────────┴─────────────────┘\n"
            ],
            "text/html": [
              "<pre style=\"white-space:pre;overflow-x:auto;line-height:normal;font-family:Menlo,'DejaVu Sans Mono',consolas,'Courier New',monospace\">┏━━━━━━━━━━━━━━━━━━━━━━━━━━━━━━━━━━━━━━┳━━━━━━━━━━━━━━━━━━━━━━━━━━━━━┳━━━━━━━━━━━━━━━━━┓\n",
              "┃<span style=\"font-weight: bold\"> Layer (type)                         </span>┃<span style=\"font-weight: bold\"> Output Shape                </span>┃<span style=\"font-weight: bold\">         Param # </span>┃\n",
              "┡━━━━━━━━━━━━━━━━━━━━━━━━━━━━━━━━━━━━━━╇━━━━━━━━━━━━━━━━━━━━━━━━━━━━━╇━━━━━━━━━━━━━━━━━┩\n",
              "│ hidden_layer_1 (<span style=\"color: #0087ff; text-decoration-color: #0087ff\">Dense</span>)               │ (<span style=\"color: #00d7ff; text-decoration-color: #00d7ff\">None</span>, <span style=\"color: #00af00; text-decoration-color: #00af00\">64</span>)                  │       <span style=\"color: #00af00; text-decoration-color: #00af00\">1,278,272</span> │\n",
              "├──────────────────────────────────────┼─────────────────────────────┼─────────────────┤\n",
              "│ hidden_layer_2 (<span style=\"color: #0087ff; text-decoration-color: #0087ff\">Dense</span>)               │ (<span style=\"color: #00d7ff; text-decoration-color: #00d7ff\">None</span>, <span style=\"color: #00af00; text-decoration-color: #00af00\">32</span>)                  │           <span style=\"color: #00af00; text-decoration-color: #00af00\">2,080</span> │\n",
              "├──────────────────────────────────────┼─────────────────────────────┼─────────────────┤\n",
              "│ hidden_layer_3 (<span style=\"color: #0087ff; text-decoration-color: #0087ff\">Dense</span>)               │ (<span style=\"color: #00d7ff; text-decoration-color: #00d7ff\">None</span>, <span style=\"color: #00af00; text-decoration-color: #00af00\">16</span>)                  │             <span style=\"color: #00af00; text-decoration-color: #00af00\">528</span> │\n",
              "├──────────────────────────────────────┼─────────────────────────────┼─────────────────┤\n",
              "│ output (<span style=\"color: #0087ff; text-decoration-color: #0087ff\">Dense</span>)                       │ (<span style=\"color: #00d7ff; text-decoration-color: #00d7ff\">None</span>, <span style=\"color: #00af00; text-decoration-color: #00af00\">2</span>)                   │              <span style=\"color: #00af00; text-decoration-color: #00af00\">34</span> │\n",
              "└──────────────────────────────────────┴─────────────────────────────┴─────────────────┘\n",
              "</pre>\n"
            ]
          },
          "metadata": {}
        },
        {
          "output_type": "display_data",
          "data": {
            "text/plain": [
              "\u001b[1m Total params: \u001b[0m\u001b[38;5;34m1,280,914\u001b[0m (4.89 MB)\n"
            ],
            "text/html": [
              "<pre style=\"white-space:pre;overflow-x:auto;line-height:normal;font-family:Menlo,'DejaVu Sans Mono',consolas,'Courier New',monospace\"><span style=\"font-weight: bold\"> Total params: </span><span style=\"color: #00af00; text-decoration-color: #00af00\">1,280,914</span> (4.89 MB)\n",
              "</pre>\n"
            ]
          },
          "metadata": {}
        },
        {
          "output_type": "display_data",
          "data": {
            "text/plain": [
              "\u001b[1m Trainable params: \u001b[0m\u001b[38;5;34m1,280,914\u001b[0m (4.89 MB)\n"
            ],
            "text/html": [
              "<pre style=\"white-space:pre;overflow-x:auto;line-height:normal;font-family:Menlo,'DejaVu Sans Mono',consolas,'Courier New',monospace\"><span style=\"font-weight: bold\"> Trainable params: </span><span style=\"color: #00af00; text-decoration-color: #00af00\">1,280,914</span> (4.89 MB)\n",
              "</pre>\n"
            ]
          },
          "metadata": {}
        },
        {
          "output_type": "display_data",
          "data": {
            "text/plain": [
              "\u001b[1m Non-trainable params: \u001b[0m\u001b[38;5;34m0\u001b[0m (0.00 B)\n"
            ],
            "text/html": [
              "<pre style=\"white-space:pre;overflow-x:auto;line-height:normal;font-family:Menlo,'DejaVu Sans Mono',consolas,'Courier New',monospace\"><span style=\"font-weight: bold\"> Non-trainable params: </span><span style=\"color: #00af00; text-decoration-color: #00af00\">0</span> (0.00 B)\n",
              "</pre>\n"
            ]
          },
          "metadata": {}
        }
      ]
    },
    {
      "cell_type": "code",
      "source": [
        "num_epochs=30\n",
        "model.compile(optimizer=Adam(learning_rate=0.015), loss='binary_crossentropy', metrics=['binary_accuracy'])\n",
        "#training the model\n",
        "model_hist = model.fit(X_train_scaled, Y_train, epochs=num_epochs, batch_size=32, validation_split=0.2, verbose=1)\n",
        "\n",
        "predictions = model.predict(X_test_scaled)\n",
        "train_predictions = model.predict(X_train_scaled)\n",
        "\n",
        "predicted_ADHD = (predictions[:, 0] > 0.5).astype(int)\n",
        "predicted_Sex_F = (predictions[:, 1] > 0.5).astype(int)\n",
        "\n",
        "train_predicted_ADHD = (train_predictions[:, 0] > 0.5).astype(int)\n",
        "train_predicted_Sex_F = (train_predictions[:, 1] > 0.5).astype(int)"
      ],
      "metadata": {
        "colab": {
          "base_uri": "https://localhost:8080/"
        },
        "id": "hJDFP7ICQWtJ",
        "outputId": "987f605e-9085-499e-a317-5667d4001819"
      },
      "execution_count": null,
      "outputs": [
        {
          "output_type": "stream",
          "name": "stdout",
          "text": [
            "Epoch 1/30\n",
            "\u001b[1m34/34\u001b[0m \u001b[32m━━━━━━━━━━━━━━━━━━━━\u001b[0m\u001b[37m\u001b[0m \u001b[1m3s\u001b[0m 30ms/step - binary_accuracy: 0.6509 - loss: 0.5440 - val_binary_accuracy: 0.5974 - val_loss: 0.6730\n",
            "Epoch 2/30\n",
            "\u001b[1m34/34\u001b[0m \u001b[32m━━━━━━━━━━━━━━━━━━━━\u001b[0m\u001b[37m\u001b[0m \u001b[1m1s\u001b[0m 24ms/step - binary_accuracy: 0.6502 - loss: 0.5453 - val_binary_accuracy: 0.6011 - val_loss: 0.7228\n",
            "Epoch 3/30\n",
            "\u001b[1m34/34\u001b[0m \u001b[32m━━━━━━━━━━━━━━━━━━━━\u001b[0m\u001b[37m\u001b[0m \u001b[1m1s\u001b[0m 27ms/step - binary_accuracy: 0.6612 - loss: 0.5544 - val_binary_accuracy: 0.6195 - val_loss: 1.7121\n",
            "Epoch 4/30\n",
            "\u001b[1m34/34\u001b[0m \u001b[32m━━━━━━━━━━━━━━━━━━━━\u001b[0m\u001b[37m\u001b[0m \u001b[1m1s\u001b[0m 24ms/step - binary_accuracy: 0.6655 - loss: 0.8690 - val_binary_accuracy: 0.5956 - val_loss: 0.7464\n",
            "Epoch 5/30\n",
            "\u001b[1m34/34\u001b[0m \u001b[32m━━━━━━━━━━━━━━━━━━━━\u001b[0m\u001b[37m\u001b[0m \u001b[1m1s\u001b[0m 21ms/step - binary_accuracy: 0.6430 - loss: 0.6853 - val_binary_accuracy: 0.6085 - val_loss: 1.4181\n",
            "Epoch 6/30\n",
            "\u001b[1m34/34\u001b[0m \u001b[32m━━━━━━━━━━━━━━━━━━━━\u001b[0m\u001b[37m\u001b[0m \u001b[1m2s\u001b[0m 34ms/step - binary_accuracy: 0.6668 - loss: 0.5544 - val_binary_accuracy: 0.5882 - val_loss: 0.8121\n",
            "Epoch 7/30\n",
            "\u001b[1m34/34\u001b[0m \u001b[32m━━━━━━━━━━━━━━━━━━━━\u001b[0m\u001b[37m\u001b[0m \u001b[1m1s\u001b[0m 33ms/step - binary_accuracy: 0.6659 - loss: 0.5232 - val_binary_accuracy: 0.6140 - val_loss: 1.7410\n",
            "Epoch 8/30\n",
            "\u001b[1m34/34\u001b[0m \u001b[32m━━━━━━━━━━━━━━━━━━━━\u001b[0m\u001b[37m\u001b[0m \u001b[1m1s\u001b[0m 31ms/step - binary_accuracy: 0.7044 - loss: 0.5034 - val_binary_accuracy: 0.6121 - val_loss: 1.0525\n",
            "Epoch 9/30\n",
            "\u001b[1m34/34\u001b[0m \u001b[32m━━━━━━━━━━━━━━━━━━━━\u001b[0m\u001b[37m\u001b[0m \u001b[1m1s\u001b[0m 23ms/step - binary_accuracy: 0.6981 - loss: 0.5065 - val_binary_accuracy: 0.6232 - val_loss: 2.1148\n",
            "Epoch 10/30\n",
            "\u001b[1m34/34\u001b[0m \u001b[32m━━━━━━━━━━━━━━━━━━━━\u001b[0m\u001b[37m\u001b[0m \u001b[1m1s\u001b[0m 22ms/step - binary_accuracy: 0.7008 - loss: 0.4872 - val_binary_accuracy: 0.6213 - val_loss: 1.3887\n",
            "Epoch 11/30\n",
            "\u001b[1m34/34\u001b[0m \u001b[32m━━━━━━━━━━━━━━━━━━━━\u001b[0m\u001b[37m\u001b[0m \u001b[1m1s\u001b[0m 22ms/step - binary_accuracy: 0.6912 - loss: 0.6001 - val_binary_accuracy: 0.6158 - val_loss: 1.2637\n",
            "Epoch 12/30\n",
            "\u001b[1m34/34\u001b[0m \u001b[32m━━━━━━━━━━━━━━━━━━━━\u001b[0m\u001b[37m\u001b[0m \u001b[1m1s\u001b[0m 22ms/step - binary_accuracy: 0.6876 - loss: 0.5036 - val_binary_accuracy: 0.6232 - val_loss: 1.7175\n",
            "Epoch 13/30\n",
            "\u001b[1m34/34\u001b[0m \u001b[32m━━━━━━━━━━━━━━━━━━━━\u001b[0m\u001b[37m\u001b[0m \u001b[1m1s\u001b[0m 26ms/step - binary_accuracy: 0.6925 - loss: 0.4973 - val_binary_accuracy: 0.6232 - val_loss: 1.7651\n",
            "Epoch 14/30\n",
            "\u001b[1m34/34\u001b[0m \u001b[32m━━━━━━━━━━━━━━━━━━━━\u001b[0m\u001b[37m\u001b[0m \u001b[1m1s\u001b[0m 22ms/step - binary_accuracy: 0.6800 - loss: 0.5105 - val_binary_accuracy: 0.6232 - val_loss: 1.7669\n",
            "Epoch 15/30\n",
            "\u001b[1m34/34\u001b[0m \u001b[32m━━━━━━━━━━━━━━━━━━━━\u001b[0m\u001b[37m\u001b[0m \u001b[1m1s\u001b[0m 21ms/step - binary_accuracy: 0.6934 - loss: 0.4881 - val_binary_accuracy: 0.6232 - val_loss: 1.7672\n",
            "Epoch 16/30\n",
            "\u001b[1m34/34\u001b[0m \u001b[32m━━━━━━━━━━━━━━━━━━━━\u001b[0m\u001b[37m\u001b[0m \u001b[1m1s\u001b[0m 22ms/step - binary_accuracy: 0.7106 - loss: 0.4792 - val_binary_accuracy: 0.6232 - val_loss: 1.7667\n",
            "Epoch 17/30\n",
            "\u001b[1m34/34\u001b[0m \u001b[32m━━━━━━━━━━━━━━━━━━━━\u001b[0m\u001b[37m\u001b[0m \u001b[1m1s\u001b[0m 21ms/step - binary_accuracy: 0.6991 - loss: 0.4820 - val_binary_accuracy: 0.6232 - val_loss: 1.7662\n",
            "Epoch 18/30\n",
            "\u001b[1m34/34\u001b[0m \u001b[32m━━━━━━━━━━━━━━━━━━━━\u001b[0m\u001b[37m\u001b[0m \u001b[1m1s\u001b[0m 26ms/step - binary_accuracy: 0.7041 - loss: 0.4912 - val_binary_accuracy: 0.6232 - val_loss: 1.7661\n",
            "Epoch 19/30\n",
            "\u001b[1m34/34\u001b[0m \u001b[32m━━━━━━━━━━━━━━━━━━━━\u001b[0m\u001b[37m\u001b[0m \u001b[1m2s\u001b[0m 33ms/step - binary_accuracy: 0.6963 - loss: 0.5041 - val_binary_accuracy: 0.6232 - val_loss: 1.7663\n",
            "Epoch 20/30\n",
            "\u001b[1m34/34\u001b[0m \u001b[32m━━━━━━━━━━━━━━━━━━━━\u001b[0m\u001b[37m\u001b[0m \u001b[1m1s\u001b[0m 33ms/step - binary_accuracy: 0.7091 - loss: 0.4757 - val_binary_accuracy: 0.6232 - val_loss: 1.7670\n",
            "Epoch 21/30\n",
            "\u001b[1m34/34\u001b[0m \u001b[32m━━━━━━━━━━━━━━━━━━━━\u001b[0m\u001b[37m\u001b[0m \u001b[1m1s\u001b[0m 36ms/step - binary_accuracy: 0.7024 - loss: 0.4864 - val_binary_accuracy: 0.6232 - val_loss: 1.7660\n",
            "Epoch 22/30\n",
            "\u001b[1m34/34\u001b[0m \u001b[32m━━━━━━━━━━━━━━━━━━━━\u001b[0m\u001b[37m\u001b[0m \u001b[1m1s\u001b[0m 33ms/step - binary_accuracy: 0.6949 - loss: 0.5085 - val_binary_accuracy: 0.6232 - val_loss: 1.7659\n",
            "Epoch 23/30\n",
            "\u001b[1m34/34\u001b[0m \u001b[32m━━━━━━━━━━━━━━━━━━━━\u001b[0m\u001b[37m\u001b[0m \u001b[1m2s\u001b[0m 44ms/step - binary_accuracy: 0.7038 - loss: 0.5035 - val_binary_accuracy: 0.6232 - val_loss: 1.7676\n",
            "Epoch 24/30\n",
            "\u001b[1m34/34\u001b[0m \u001b[32m━━━━━━━━━━━━━━━━━━━━\u001b[0m\u001b[37m\u001b[0m \u001b[1m2s\u001b[0m 32ms/step - binary_accuracy: 0.7071 - loss: 0.4819 - val_binary_accuracy: 0.6232 - val_loss: 1.7663\n",
            "Epoch 25/30\n",
            "\u001b[1m34/34\u001b[0m \u001b[32m━━━━━━━━━━━━━━━━━━━━\u001b[0m\u001b[37m\u001b[0m \u001b[1m1s\u001b[0m 21ms/step - binary_accuracy: 0.6866 - loss: 0.5032 - val_binary_accuracy: 0.6232 - val_loss: 1.7661\n",
            "Epoch 26/30\n",
            "\u001b[1m34/34\u001b[0m \u001b[32m━━━━━━━━━━━━━━━━━━━━\u001b[0m\u001b[37m\u001b[0m \u001b[1m1s\u001b[0m 22ms/step - binary_accuracy: 0.7140 - loss: 0.4835 - val_binary_accuracy: 0.6232 - val_loss: 1.7665\n",
            "Epoch 27/30\n",
            "\u001b[1m34/34\u001b[0m \u001b[32m━━━━━━━━━━━━━━━━━━━━\u001b[0m\u001b[37m\u001b[0m \u001b[1m1s\u001b[0m 21ms/step - binary_accuracy: 0.6991 - loss: 0.4940 - val_binary_accuracy: 0.6232 - val_loss: 1.7660\n",
            "Epoch 28/30\n",
            "\u001b[1m34/34\u001b[0m \u001b[32m━━━━━━━━━━━━━━━━━━━━\u001b[0m\u001b[37m\u001b[0m \u001b[1m1s\u001b[0m 24ms/step - binary_accuracy: 0.6969 - loss: 0.4931 - val_binary_accuracy: 0.6232 - val_loss: 1.7669\n",
            "Epoch 29/30\n",
            "\u001b[1m34/34\u001b[0m \u001b[32m━━━━━━━━━━━━━━━━━━━━\u001b[0m\u001b[37m\u001b[0m \u001b[1m2s\u001b[0m 34ms/step - binary_accuracy: 0.6819 - loss: 0.4985 - val_binary_accuracy: 0.6232 - val_loss: 1.7665\n",
            "Epoch 30/30\n",
            "\u001b[1m34/34\u001b[0m \u001b[32m━━━━━━━━━━━━━━━━━━━━\u001b[0m\u001b[37m\u001b[0m \u001b[1m1s\u001b[0m 34ms/step - binary_accuracy: 0.6997 - loss: 0.4966 - val_binary_accuracy: 0.6232 - val_loss: 1.7667\n",
            "\u001b[1m14/14\u001b[0m \u001b[32m━━━━━━━━━━━━━━━━━━━━\u001b[0m\u001b[37m\u001b[0m \u001b[1m0s\u001b[0m 17ms/step\n"
          ]
        }
      ]
    },
    {
      "cell_type": "code",
      "source": [
        "plt.plot(range(1,num_epochs+1), model_hist.history['loss'], label='Training Loss')\n",
        "plt.plot(range(1,num_epochs+1), model_hist.history['binary_accuracy'], label='Training Accuracy')\n",
        "\n",
        "plt.xlabel('Epochs')\n",
        "plt.ylabel('Performance')\n",
        "plt.legend()\n",
        "plt.show()"
      ],
      "metadata": {
        "colab": {
          "base_uri": "https://localhost:8080/",
          "height": 449
        },
        "id": "T8X3-68WhPhC",
        "outputId": "c7c351f4-576b-4576-b170-424dbc71a971"
      },
      "execution_count": null,
      "outputs": [
        {
          "output_type": "display_data",
          "data": {
            "text/plain": [
              "<Figure size 640x480 with 1 Axes>"
            ],
            "image/png": "[encoded data removed]"
          },
          "metadata": {}
        }
      ]
    },
    {
      "cell_type": "code",
      "source": [
        "#seeing how well the model is doing\n",
        "from sklearn.metrics import f1_score\n",
        "actual_ADHD = Y_train['ADHD_Outcome']\n",
        "actual_Sex_F = Y_train['Sex_F']\n",
        "\n",
        "adhd_f1 = f1_score(actual_ADHD, train_predicted_ADHD)\n",
        "sex_f_f1 = f1_score(actual_Sex_F, train_predicted_Sex_F)\n",
        "\n",
        "print(\"ADHD F1 Score: \", adhd_f1)\n",
        "print(\"Sex F1 Score: \", sex_f_f1)\n"
      ],
      "metadata": {
        "colab": {
          "base_uri": "https://localhost:8080/"
        },
        "id": "O205RCgVhYns",
        "outputId": "d4da9e73-04a7-4bc5-c54b-4f2a86cae7a3"
      },
      "execution_count": null,
      "outputs": [
        {
          "output_type": "stream",
          "name": "stdout",
          "text": [
            "ADHD F1 Score:  0.3138780804150454\n",
            "Sex F1 Score:  0.489432703003337\n"
          ]
        }
      ]
    },
    {
      "cell_type": "code",
      "source": [
        "from sklearn.metrics import accuracy_score, precision_score, recall_score, roc_auc_score\n",
        "\n",
        "\n",
        "# Calculate metrics\n",
        "accuracy_sex = accuracy_score(actual_Sex_F, train_predicted_Sex_F)\n",
        "precision_sex = precision_score(actual_Sex_F, train_predicted_Sex_F)\n",
        "recall_sex = recall_score(actual_Sex_F, train_predicted_Sex_F)\n",
        "\n",
        "print(f\"Accuracy for sex: {accuracy_sex:.2f}\")\n",
        "print(f\"Precision for sex: {precision_sex:.2f}\")\n",
        "print(f\"Recall for sex: {recall_sex:.2f}\")\n",
        "\n",
        "\n",
        "accuracy_adhd = accuracy_score(actual_ADHD, train_predicted_ADHD)\n",
        "precision_adhd = precision_score(actual_ADHD, train_predicted_ADHD)\n",
        "recall_adhd = recall_score(actual_ADHD, train_predicted_ADHD)\n",
        "print()\n",
        "\n",
        "print(f\"Accuracy for ADHD: {accuracy_adhd:.2f}\")\n",
        "print(f\"Precision for ADHD: {precision_adhd:.2f}\")\n",
        "print(f\"Recall for ADHD: {recall_adhd:.2f}\")\n",
        "\n"
      ],
      "metadata": {
        "colab": {
          "base_uri": "https://localhost:8080/"
        },
        "id": "sIr9iDB0hdko",
        "outputId": "d3d8ede6-c787-45f4-f906-bb4059d12f01"
      },
      "execution_count": null,
      "outputs": [
        {
          "output_type": "stream",
          "name": "stdout",
          "text": [
            "Accuracy for sex: 0.66\n",
            "Precision for sex: 1.00\n",
            "Recall for sex: 0.32\n",
            "\n",
            "Accuracy for ADHD: 0.61\n",
            "Precision for ADHD: 1.00\n",
            "Recall for ADHD: 0.19\n"
          ]
        }
      ]
    },
    {
      "cell_type": "code",
      "source": [
        "\n",
        "X_test2 = X_test2.reindex(columns=X_train.columns, fill_value=0)  # Fill missing columns with 0 if needed\n",
        "X_test_testdf = scaler.transform(X_test2)\n",
        "\n",
        "predictions = model.predict(X_test_testdf)\n",
        "#converting to 0 or 1 based on .5 threshold\n",
        "predicted_labels = (predictions[:, 0] > 0.5).astype(int)\n",
        "\n",
        "predicted_ADHD = predicted_labels\n",
        "predicted_Sex_F = (predictions[:, 1] > 0.5).astype(int)\n",
        "\n",
        "submission_df = pd.DataFrame({'participant_id': test_df['participant_id'],'ADHD_Outcome': predicted_ADHD,'Sex_F': predicted_Sex_F})\n",
        "submission_df.to_csv('submission_ros.csv', index=False)\n"
      ],
      "metadata": {
        "colab": {
          "base_uri": "https://localhost:8080/"
        },
        "id": "P8ZXHdweQ_vy",
        "outputId": "db61850e-3a73-48f6-d67d-15d2c6b7c15e"
      },
      "execution_count": null,
      "outputs": [
        {
          "output_type": "stream",
          "name": "stdout",
          "text": [
            "\u001b[1m10/10\u001b[0m \u001b[32m━━━━━━━━━━━━━━━━━━━━\u001b[0m\u001b[37m\u001b[0m \u001b[1m0s\u001b[0m 7ms/step \n"
          ]
        }
      ]
    }
  ]
}